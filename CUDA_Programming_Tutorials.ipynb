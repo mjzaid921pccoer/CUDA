{
  "nbformat": 4,
  "nbformat_minor": 0,
  "metadata": {
    "colab": {
      "name": "CUDA_Programming_Tutorials.ipynb",
      "provenance": [],
      "authorship_tag": "ABX9TyPd8/BlW9RqgIpmn/hHlnDZ",
      "include_colab_link": true
    },
    "kernelspec": {
      "name": "python3",
      "display_name": "Python 3"
    },
    "accelerator": "GPU"
  },
  "cells": [
    {
      "cell_type": "markdown",
      "metadata": {
        "id": "view-in-github",
        "colab_type": "text"
      },
      "source": [
        "<a href=\"https://colab.research.google.com/github/mjzaid921pccoer/CUDA/blob/main/CUDA_Programming_Tutorials.ipynb\" target=\"_parent\"><img src=\"https://colab.research.google.com/assets/colab-badge.svg\" alt=\"Open In Colab\"/></a>"
      ]
    },
    {
      "cell_type": "markdown",
      "metadata": {
        "id": "L1gbODVmmob1"
      },
      "source": [
        "---\n",
        "---\n",
        "---\n",
        "#**CUDA : Compute Unified Device Architecture**\n",
        "\n",
        "\n",
        "##**CHAPTER ZERO**\n",
        "### **Prerequisite Chapter - Setting GPU Environment for CUDA Programming**\n",
        "---\n",
        "#In Google Colab,\n",
        "##Menu Bar shows \"Runtime\" Menu Option.\n",
        "### In Runtime Menu \"Change runtime type\" Option appears, it shows the \"Notebook Settings\" where \"Hardware accelerator\" DropDown Option will appear select \"GPU\".\n",
        "---\n",
        "\n"
      ]
    },
    {
      "cell_type": "markdown",
      "metadata": {
        "id": "orKkTpApnwi3"
      },
      "source": [
        "---\n",
        "# Check the Version CUDA :\n",
        "```\n",
        "!nvcc --version\n",
        "```\n",
        "---"
      ]
    },
    {
      "cell_type": "code",
      "metadata": {
        "colab": {
          "base_uri": "https://localhost:8080/"
        },
        "id": "Bnv2zaZ9oFpS",
        "outputId": "de556dc8-4fa6-44ae-a299-be790486bf35"
      },
      "source": [
        "!nvcc --version"
      ],
      "execution_count": 1,
      "outputs": [
        {
          "output_type": "stream",
          "text": [
            "nvcc: NVIDIA (R) Cuda compiler driver\n",
            "Copyright (c) 2005-2019 NVIDIA Corporation\n",
            "Built on Sun_Jul_28_19:07:16_PDT_2019\n",
            "Cuda compilation tools, release 10.1, V10.1.243\n"
          ],
          "name": "stdout"
        }
      ]
    },
    {
      "cell_type": "markdown",
      "metadata": {
        "id": "woXCpy7loGss"
      },
      "source": [
        "---\n",
        "#Installing a small extension to run nvcc from Notebook cells \n",
        "```\n",
        "!pip install git+git://github.com/andreinechaev/nvcc4jupyter.git\n",
        "```\n",
        "---"
      ]
    },
    {
      "cell_type": "code",
      "metadata": {
        "colab": {
          "base_uri": "https://localhost:8080/"
        },
        "id": "_0o73_FvoYFs",
        "outputId": "919a4d29-4427-47e2-dfcd-c8b0115625f9"
      },
      "source": [
        "!pip install git+git://github.com/andreinechaev/nvcc4jupyter.git"
      ],
      "execution_count": 2,
      "outputs": [
        {
          "output_type": "stream",
          "text": [
            "Collecting git+git://github.com/andreinechaev/nvcc4jupyter.git\n",
            "  Cloning git://github.com/andreinechaev/nvcc4jupyter.git to /tmp/pip-req-build-_r162ywh\n",
            "  Running command git clone -q git://github.com/andreinechaev/nvcc4jupyter.git /tmp/pip-req-build-_r162ywh\n",
            "Building wheels for collected packages: NVCCPlugin\n",
            "  Building wheel for NVCCPlugin (setup.py) ... \u001b[?25l\u001b[?25hdone\n",
            "  Created wheel for NVCCPlugin: filename=NVCCPlugin-0.0.2-cp36-none-any.whl size=4308 sha256=6ac343b1500fe8a7e43c93562312028c75bb477b96855b31a9e3599c5b32c104\n",
            "  Stored in directory: /tmp/pip-ephem-wheel-cache-inf20fnf/wheels/10/c2/05/ca241da37bff77d60d31a9174f988109c61ba989e4d4650516\n",
            "Successfully built NVCCPlugin\n",
            "Installing collected packages: NVCCPlugin\n",
            "Successfully installed NVCCPlugin-0.0.2\n"
          ],
          "name": "stdout"
        }
      ]
    },
    {
      "cell_type": "markdown",
      "metadata": {
        "id": "fnutO6B0obf3"
      },
      "source": [
        "---\n",
        "# Loading the extension installed into Jupyter Notebook environment.\n",
        "```\n",
        "%load_ext nvcc_plugin\n",
        "```\n",
        "---"
      ]
    },
    {
      "cell_type": "code",
      "metadata": {
        "colab": {
          "base_uri": "https://localhost:8080/"
        },
        "id": "N2sJNdWXosyB",
        "outputId": "0a8e21ce-ae3d-4614-8e12-685b562aec0a"
      },
      "source": [
        "%load_ext nvcc_plugin"
      ],
      "execution_count": 3,
      "outputs": [
        {
          "output_type": "stream",
          "text": [
            "created output directory at /content/src\n",
            "Out bin /content/result.out\n"
          ],
          "name": "stdout"
        }
      ]
    },
    {
      "cell_type": "markdown",
      "metadata": {
        "id": "VOLRMjcPpELm"
      },
      "source": [
        "---\n",
        "# **CUDA SETUP COMPLETED**\n",
        "---\n",
        "CUDA Programs to be executed.\n",
        "\n",
        "##**Hello World**\n",
        "```\n",
        "%%cu\n",
        "#include <stdio.h>\n",
        "#include <stdlib.h>\n",
        "#define NUM_BLOCKS 16\n",
        "#define BLOCK_WIDTH 2\n",
        "\n",
        "//kernel's\n",
        "__global__ void hello(){\n",
        "    printf(\"Hello World from GPU's \\t blockDim:%d \\t blockNo: %d \\t threadNo: %d \\t threadId: %d\\n\",blockDim.x,blockIdx.x,threadIdx.x,(blockDim.x*blockIdx.x+threadIdx.x));\n",
        "}\n",
        "\n",
        "//Module\n",
        "void helloWorld(){\n",
        "  printf(\"Hello World from CPU \\n\");\n",
        "  hello<<<NUM_BLOCKS,BLOCK_WIDTH>>>();\n",
        "  cudaDeviceSynchronize();\n",
        "}\n",
        "\n",
        "int main() {\n",
        "  helloWorld();  \n",
        "  return 0; \n",
        "}\n",
        "```\n",
        "---"
      ]
    },
    {
      "cell_type": "code",
      "metadata": {
        "colab": {
          "base_uri": "https://localhost:8080/"
        },
        "id": "J175lFSlq9j7",
        "outputId": "a95046ba-1167-4b1b-b82c-d8e8919ed8f7"
      },
      "source": [
        "%%cu\n",
        "#include <stdio.h>\n",
        "#include <stdlib.h>\n",
        "#define NUM_BLOCKS 16\n",
        "#define BLOCK_WIDTH 2\n",
        "\n",
        "//kernel's\n",
        "__global__ void hello(){\n",
        "    printf(\"Hello World from GPU's \\t blockDim:%d \\t blockNo: %d \\t threadNo: %d \\t threadId: %d\\n\",blockDim.x,blockIdx.x,threadIdx.x,(blockDim.x*blockIdx.x+threadIdx.x));\n",
        "}\n",
        "\n",
        "//Module\n",
        "void helloWorld(){\n",
        "  printf(\"Hello World from CPU \\n\");\n",
        "  hello<<<NUM_BLOCKS,BLOCK_WIDTH>>>();\n",
        "  cudaDeviceSynchronize();\n",
        "}\n",
        "\n",
        "int main() {\n",
        "  helloWorld();  \n",
        "  return 0;\n",
        "}"
      ],
      "execution_count": 6,
      "outputs": [
        {
          "output_type": "stream",
          "text": [
            "Hello World from CPU \n",
            "Hello World from GPU's \t blockDim:2 \t blockNo: 12 \t threadNo: 0 \t threadId: 24\n",
            "Hello World from GPU's \t blockDim:2 \t blockNo: 12 \t threadNo: 1 \t threadId: 25\n",
            "Hello World from GPU's \t blockDim:2 \t blockNo: 10 \t threadNo: 0 \t threadId: 20\n",
            "Hello World from GPU's \t blockDim:2 \t blockNo: 10 \t threadNo: 1 \t threadId: 21\n",
            "Hello World from GPU's \t blockDim:2 \t blockNo: 15 \t threadNo: 0 \t threadId: 30\n",
            "Hello World from GPU's \t blockDim:2 \t blockNo: 15 \t threadNo: 1 \t threadId: 31\n",
            "Hello World from GPU's \t blockDim:2 \t blockNo: 7 \t threadNo: 0 \t threadId: 14\n",
            "Hello World from GPU's \t blockDim:2 \t blockNo: 7 \t threadNo: 1 \t threadId: 15\n",
            "Hello World from GPU's \t blockDim:2 \t blockNo: 2 \t threadNo: 0 \t threadId: 4\n",
            "Hello World from GPU's \t blockDim:2 \t blockNo: 2 \t threadNo: 1 \t threadId: 5\n",
            "Hello World from GPU's \t blockDim:2 \t blockNo: 5 \t threadNo: 0 \t threadId: 10\n",
            "Hello World from GPU's \t blockDim:2 \t blockNo: 5 \t threadNo: 1 \t threadId: 11\n",
            "Hello World from GPU's \t blockDim:2 \t blockNo: 11 \t threadNo: 0 \t threadId: 22\n",
            "Hello World from GPU's \t blockDim:2 \t blockNo: 11 \t threadNo: 1 \t threadId: 23\n",
            "Hello World from GPU's \t blockDim:2 \t blockNo: 6 \t threadNo: 0 \t threadId: 12\n",
            "Hello World from GPU's \t blockDim:2 \t blockNo: 6 \t threadNo: 1 \t threadId: 13\n",
            "Hello World from GPU's \t blockDim:2 \t blockNo: 13 \t threadNo: 0 \t threadId: 26\n",
            "Hello World from GPU's \t blockDim:2 \t blockNo: 13 \t threadNo: 1 \t threadId: 27\n",
            "Hello World from GPU's \t blockDim:2 \t blockNo: 14 \t threadNo: 0 \t threadId: 28\n",
            "Hello World from GPU's \t blockDim:2 \t blockNo: 14 \t threadNo: 1 \t threadId: 29\n",
            "Hello World from GPU's \t blockDim:2 \t blockNo: 8 \t threadNo: 0 \t threadId: 16\n",
            "Hello World from GPU's \t blockDim:2 \t blockNo: 8 \t threadNo: 1 \t threadId: 17\n",
            "Hello World from GPU's \t blockDim:2 \t blockNo: 0 \t threadNo: 0 \t threadId: 0\n",
            "Hello World from GPU's \t blockDim:2 \t blockNo: 0 \t threadNo: 1 \t threadId: 1\n",
            "Hello World from GPU's \t blockDim:2 \t blockNo: 9 \t threadNo: 0 \t threadId: 18\n",
            "Hello World from GPU's \t blockDim:2 \t blockNo: 9 \t threadNo: 1 \t threadId: 19\n",
            "Hello World from GPU's \t blockDim:2 \t blockNo: 1 \t threadNo: 0 \t threadId: 2\n",
            "Hello World from GPU's \t blockDim:2 \t blockNo: 1 \t threadNo: 1 \t threadId: 3\n",
            "Hello World from GPU's \t blockDim:2 \t blockNo: 3 \t threadNo: 0 \t threadId: 6\n",
            "Hello World from GPU's \t blockDim:2 \t blockNo: 3 \t threadNo: 1 \t threadId: 7\n",
            "Hello World from GPU's \t blockDim:2 \t blockNo: 4 \t threadNo: 0 \t threadId: 8\n",
            "Hello World from GPU's \t blockDim:2 \t blockNo: 4 \t threadNo: 1 \t threadId: 9\n",
            "\n"
          ],
          "name": "stdout"
        }
      ]
    },
    {
      "cell_type": "markdown",
      "metadata": {
        "id": "9SmmYpsODm9f"
      },
      "source": [
        "#**Chapter 1**"
      ]
    },
    {
      "cell_type": "code",
      "metadata": {
        "id": "5VET-Lxdymb6"
      },
      "source": [
        ""
      ],
      "execution_count": 4,
      "outputs": []
    }
  ]
}